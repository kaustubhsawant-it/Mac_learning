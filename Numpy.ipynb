{
 "cells": [
  {
   "cell_type": "code",
   "execution_count": 45,
   "id": "2360ab1c-ab16-410e-925d-eccad9bd8c64",
   "metadata": {},
   "outputs": [],
   "source": [
    "import numpy as np"
   ]
  },
  {
   "cell_type": "code",
   "execution_count": 61,
   "id": "314e044f-93e3-455f-891f-e43cf4a4f507",
   "metadata": {},
   "outputs": [
    {
     "name": "stdout",
     "output_type": "stream",
     "text": [
      "[[ 1  2]\n",
      " [ 4  5]\n",
      " [ 7  8]\n",
      " [ 9 10]]\n"
     ]
    }
   ],
   "source": [
    "#python list to numpy array\n",
    "list = ((1,2),(4,5),(7,8),(9,10))\n",
    "arr_1 = np.array(list)\n",
    "print(arr_1)"
   ]
  },
  {
   "cell_type": "code",
   "execution_count": 11,
   "id": "5ae617f9-4005-455a-b62e-527d207f81b6",
   "metadata": {},
   "outputs": [
    {
     "data": {
      "text/plain": [
       "array([0, 2, 4, 6, 8])"
      ]
     },
     "execution_count": 11,
     "metadata": {},
     "output_type": "execute_result"
    }
   ],
   "source": [
    "np.arange(0,10,2)"
   ]
  },
  {
   "cell_type": "code",
   "execution_count": 15,
   "id": "4e76e04b-a968-4b4e-9cbe-d2be3b38ebba",
   "metadata": {},
   "outputs": [
    {
     "data": {
      "text/plain": [
       "array([  0.,  25.,  50.,  75., 100.])"
      ]
     },
     "execution_count": 15,
     "metadata": {},
     "output_type": "execute_result"
    }
   ],
   "source": [
    "np.linspace(0,100,5)"
   ]
  },
  {
   "cell_type": "code",
   "execution_count": 29,
   "id": "0a409186-bf1f-4d1d-9214-14d92d328869",
   "metadata": {},
   "outputs": [
    {
     "data": {
      "text/plain": [
       "array([[0.35440631, 0.69641574, 0.08469348],\n",
       "       [0.34342122, 0.95102347, 0.92211642]])"
      ]
     },
     "execution_count": 29,
     "metadata": {},
     "output_type": "execute_result"
    }
   ],
   "source": [
    "np.random.rand(2,3)"
   ]
  },
  {
   "cell_type": "code",
   "execution_count": 55,
   "id": "714fdd86-6ce5-40dd-9e68-8b76a7eaf0f1",
   "metadata": {},
   "outputs": [
    {
     "data": {
      "text/plain": [
       "2"
      ]
     },
     "execution_count": 55,
     "metadata": {},
     "output_type": "execute_result"
    }
   ],
   "source": [
    "arr_1.ndim"
   ]
  },
  {
   "cell_type": "code",
   "execution_count": 41,
   "id": "440bd8cf-2720-489f-9ad6-80d7e3520f33",
   "metadata": {},
   "outputs": [
    {
     "data": {
      "text/plain": [
       "2"
      ]
     },
     "execution_count": 41,
     "metadata": {},
     "output_type": "execute_result"
    }
   ],
   "source": [
    "arr_1[0,1]"
   ]
  },
  {
   "cell_type": "code",
   "execution_count": 63,
   "id": "6689137a-edbf-4d7a-90c8-0e0eb4788def",
   "metadata": {},
   "outputs": [
    {
     "data": {
      "text/plain": [
       "array([[ 1,  2,  4,  5],\n",
       "       [ 7,  8,  9, 10]])"
      ]
     },
     "execution_count": 63,
     "metadata": {},
     "output_type": "execute_result"
    }
   ],
   "source": [
    "arr_1.reshape(2,4)"
   ]
  },
  {
   "cell_type": "code",
   "execution_count": 65,
   "id": "3354a594-e1ef-4e38-9144-f72a39b0aae5",
   "metadata": {},
   "outputs": [
    {
     "data": {
      "text/plain": [
       "array([ 1,  2,  4,  5,  7,  8,  9, 10])"
      ]
     },
     "execution_count": 65,
     "metadata": {},
     "output_type": "execute_result"
    }
   ],
   "source": [
    "arr_1.flatten()"
   ]
  },
  {
   "cell_type": "code",
   "execution_count": 67,
   "id": "29567eb6-d094-4a01-9fb6-7b2deab92689",
   "metadata": {},
   "outputs": [
    {
     "data": {
      "text/plain": [
       "array([[ 1,  2],\n",
       "       [ 4,  5],\n",
       "       [ 7,  8],\n",
       "       [ 9, 10]])"
      ]
     },
     "execution_count": 67,
     "metadata": {},
     "output_type": "execute_result"
    }
   ],
   "source": [
    "arr_1"
   ]
  },
  {
   "cell_type": "code",
   "execution_count": 69,
   "id": "9d1f1c9a-6ed3-4c49-bf36-6ee439e3b0b1",
   "metadata": {},
   "outputs": [
    {
     "data": {
      "text/plain": [
       "array([[ 1,  4,  7,  9],\n",
       "       [ 2,  5,  8, 10]])"
      ]
     },
     "execution_count": 69,
     "metadata": {},
     "output_type": "execute_result"
    }
   ],
   "source": [
    "arr_1.T"
   ]
  },
  {
   "cell_type": "code",
   "execution_count": 115,
   "id": "c03810cd-b8dc-44cd-baa6-dba7f13023c9",
   "metadata": {},
   "outputs": [],
   "source": [
    "arr_2 = np.array((('a','b'),('c','d'),('e','f'),('h','i')))"
   ]
  },
  {
   "cell_type": "code",
   "execution_count": 113,
   "id": "efbc686f-e639-4db5-a8e2-ac80ba6c2279",
   "metadata": {},
   "outputs": [
    {
     "data": {
      "text/plain": [
       "array([['a', 'b'],\n",
       "       ['c', 'd'],\n",
       "       ['e', 'f']], dtype='<U1')"
      ]
     },
     "execution_count": 113,
     "metadata": {},
     "output_type": "execute_result"
    }
   ],
   "source": [
    "arr_2"
   ]
  },
  {
   "cell_type": "code",
   "execution_count": 117,
   "id": "0cfb16f7-8aa5-4fdd-b629-a94f675f80f1",
   "metadata": {},
   "outputs": [
    {
     "data": {
      "text/plain": [
       "array([['1', '2'],\n",
       "       ['4', '5'],\n",
       "       ['7', '8'],\n",
       "       ['9', '10'],\n",
       "       ['a', 'b'],\n",
       "       ['c', 'd'],\n",
       "       ['e', 'f'],\n",
       "       ['h', 'i']], dtype='<U21')"
      ]
     },
     "execution_count": 117,
     "metadata": {},
     "output_type": "execute_result"
    }
   ],
   "source": [
    "np.concatenate([arr_1,arr_2],axis=0)"
   ]
  },
  {
   "cell_type": "code",
   "execution_count": 119,
   "id": "1c1fb3f0-66a3-4250-8bb2-05f21e85a88f",
   "metadata": {},
   "outputs": [
    {
     "data": {
      "text/plain": [
       "array([['1', '2', 'a', 'b'],\n",
       "       ['4', '5', 'c', 'd'],\n",
       "       ['7', '8', 'e', 'f'],\n",
       "       ['9', '10', 'h', 'i']], dtype='<U21')"
      ]
     },
     "execution_count": 119,
     "metadata": {},
     "output_type": "execute_result"
    }
   ],
   "source": [
    "np.concatenate([arr_1, arr_2], axis=1)"
   ]
  },
  {
   "cell_type": "code",
   "execution_count": 127,
   "id": "ca24ce4e-7f7d-4db1-af7f-7c2f57585656",
   "metadata": {},
   "outputs": [
    {
     "data": {
      "text/plain": [
       "array([['1', '2', 'a', 'b'],\n",
       "       ['4', '5', 'c', 'd'],\n",
       "       ['7', '8', 'e', 'f'],\n",
       "       ['9', '10', 'h', 'i']], dtype='<U21')"
      ]
     },
     "execution_count": 127,
     "metadata": {},
     "output_type": "execute_result"
    }
   ],
   "source": [
    "np.hstack((arr_1,arr_2))"
   ]
  },
  {
   "cell_type": "code",
   "execution_count": 129,
   "id": "f184cc38-7967-497d-8e2d-725ac9ef5ead",
   "metadata": {},
   "outputs": [
    {
     "data": {
      "text/plain": [
       "array([['1', '2'],\n",
       "       ['4', '5'],\n",
       "       ['7', '8'],\n",
       "       ['9', '10'],\n",
       "       ['a', 'b'],\n",
       "       ['c', 'd'],\n",
       "       ['e', 'f'],\n",
       "       ['h', 'i']], dtype='<U21')"
      ]
     },
     "execution_count": 129,
     "metadata": {},
     "output_type": "execute_result"
    }
   ],
   "source": [
    "np.vstack((arr_1,arr_2))"
   ]
  },
  {
   "cell_type": "code",
   "execution_count": 131,
   "id": "280c2a73-a4e6-489c-a6d4-1689f8c1739f",
   "metadata": {},
   "outputs": [
    {
     "data": {
      "text/plain": [
       "array([[['1', '2'],\n",
       "        ['4', '5'],\n",
       "        ['7', '8'],\n",
       "        ['9', '10']],\n",
       "\n",
       "       [['a', 'b'],\n",
       "        ['c', 'd'],\n",
       "        ['e', 'f'],\n",
       "        ['h', 'i']]], dtype='<U21')"
      ]
     },
     "execution_count": 131,
     "metadata": {},
     "output_type": "execute_result"
    }
   ],
   "source": [
    "np.stack((arr_1,arr_2))"
   ]
  },
  {
   "cell_type": "code",
   "execution_count": 133,
   "id": "0e47ab03-3ff2-4ac9-b0a4-2f7f7f561f7f",
   "metadata": {},
   "outputs": [
    {
     "data": {
      "text/plain": [
       "[array([[1, 2],\n",
       "        [4, 5]]),\n",
       " array([[ 7,  8],\n",
       "        [ 9, 10]])]"
      ]
     },
     "execution_count": 133,
     "metadata": {},
     "output_type": "execute_result"
    }
   ],
   "source": [
    "np.split(arr_1,2)"
   ]
  },
  {
   "cell_type": "code",
   "execution_count": 143,
   "id": "0d7e0f41-2256-46b6-825c-5545d5bd2001",
   "metadata": {},
   "outputs": [
    {
     "data": {
      "text/plain": [
       "array([[12,  1],\n",
       "       [22, 10]])"
      ]
     },
     "execution_count": 143,
     "metadata": {},
     "output_type": "execute_result"
    }
   ],
   "source": [
    "arr = np.array(((12,1),(22,10)))\n",
    "arr + 6\n",
    "arr"
   ]
  },
  {
   "cell_type": "code",
   "execution_count": 147,
   "id": "c07de562-b747-42f2-a320-506c297527a4",
   "metadata": {},
   "outputs": [
    {
     "data": {
      "text/plain": [
       "array([[12,  3],\n",
       "       [22, 12]])"
      ]
     },
     "execution_count": 147,
     "metadata": {},
     "output_type": "execute_result"
    }
   ],
   "source": [
    "arr + np.array([0, 2])"
   ]
  },
  {
   "cell_type": "code",
   "execution_count": null,
   "id": "76cb3bda-731a-45c8-884a-607e9b312528",
   "metadata": {},
   "outputs": [],
   "source": []
  }
 ],
 "metadata": {
  "kernelspec": {
   "display_name": "Python 3 (ipykernel)",
   "language": "python",
   "name": "python3"
  },
  "language_info": {
   "codemirror_mode": {
    "name": "ipython",
    "version": 3
   },
   "file_extension": ".py",
   "mimetype": "text/x-python",
   "name": "python",
   "nbconvert_exporter": "python",
   "pygments_lexer": "ipython3",
   "version": "3.12.4"
  }
 },
 "nbformat": 4,
 "nbformat_minor": 5
}
