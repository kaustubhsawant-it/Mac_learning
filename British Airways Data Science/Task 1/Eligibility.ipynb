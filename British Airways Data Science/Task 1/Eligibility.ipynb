{
 "cells": [
  {
   "cell_type": "code",
   "execution_count": 1,
   "id": "437850e6-8716-4f16-9013-5dbe84e4913d",
   "metadata": {},
   "outputs": [],
   "source": [
    "import pandas as pd\n",
    "import numpy as np"
   ]
  },
  {
   "cell_type": "code",
   "execution_count": 17,
   "id": "b33ba18b-0c2a-4dcc-b0af-3cb9bf8aeca7",
   "metadata": {},
   "outputs": [
    {
     "name": "stdout",
     "output_type": "stream",
     "text": [
      "  FLIGHT_DATE FLIGHT_TIME TIME_OF_DAY AIRLINE_CD FLIGHT_NO  \\\n",
      "0  2025-09-02    14:19:00   Afternoon         BA    BA5211   \n",
      "1  2025-06-10    06:42:00     Morning         BA    BA7282   \n",
      "2  2025-10-27    15:33:00   Afternoon         BA    BA1896   \n",
      "3  2025-06-15    18:29:00     Evening         BA    BA5497   \n",
      "4  2025-08-25    20:35:00     Evening         BA    BA1493   \n",
      "\n",
      "  DEPARTURE_STATION_CD ARRIVAL_STATION_CD ARRIVAL_COUNTRY ARRIVAL_REGION  \\\n",
      "0                  LHR                LAX             USA  North America   \n",
      "1                  LHR                LAX             USA  North America   \n",
      "2                  LHR                FRA         Germany         Europe   \n",
      "3                  LHR                IST          Turkey         Europe   \n",
      "4                  LHR                FRA         Germany         Europe   \n",
      "\n",
      "    HAUL AIRCRAFT_TYPE  FIRST_CLASS_SEATS  BUSINESS_CLASS_SEATS  \\\n",
      "0   LONG          B777                  8                    49   \n",
      "1   LONG          B777                  8                    49   \n",
      "2  SHORT          A320                  0                    17   \n",
      "3  SHORT          A320                  0                     8   \n",
      "4  SHORT          A320                  0                    13   \n",
      "\n",
      "   ECONOMY_SEATS  TIER1_ELIGIBLE_PAX  TIER2_ELIGIBLE_PAX  TIER3_ELIGIBLE_PAX  \n",
      "0            178                   0                  10                  38  \n",
      "1            178                   0                   7                  28  \n",
      "2            163                   0                  11                  40  \n",
      "3            172                   0                  16                  54  \n",
      "4            167                   0                   6                  27  \n",
      "Index(['FLIGHT_DATE', 'FLIGHT_TIME', 'TIME_OF_DAY', 'AIRLINE_CD', 'FLIGHT_NO',\n",
      "       'DEPARTURE_STATION_CD', 'ARRIVAL_STATION_CD', 'ARRIVAL_COUNTRY',\n",
      "       'ARRIVAL_REGION', 'HAUL', 'AIRCRAFT_TYPE', 'FIRST_CLASS_SEATS',\n",
      "       'BUSINESS_CLASS_SEATS', 'ECONOMY_SEATS', 'TIER1_ELIGIBLE_PAX',\n",
      "       'TIER2_ELIGIBLE_PAX', 'TIER3_ELIGIBLE_PAX'],\n",
      "      dtype='object')\n",
      "(10000, 17)\n"
     ]
    }
   ],
   "source": [
    "df = pd.read_excel(\"British Airways Summer Schedule Dataset - Forage Data Science Task 1.xlsx\")\n",
    "print(df.head())\n",
    "print(df.columns)\n",
    "print(df.shape)"
   ]
  },
  {
   "cell_type": "code",
   "execution_count": 39,
   "id": "f6edbf4e-2b55-4525-8727-a0ab847ead3e",
   "metadata": {},
   "outputs": [],
   "source": [
    "#Categorizing the data into one usable grouping\n",
    "df[\"Category\"]  = df[\"HAUL\"] + \" - \" + df[\"ARRIVAL_REGION\"]+\" - \" + df[\"TIME_OF_DAY\"]"
   ]
  },
  {
   "cell_type": "code",
   "execution_count": 43,
   "id": "f75b91b3-6f4d-4f3c-bedd-fad39474c5bd",
   "metadata": {},
   "outputs": [],
   "source": [
    "#Total numbers of passengers\n",
    "df[\"Total_Passengers\"]=(df[\"FIRST_CLASS_SEATS\"] + df[\"BUSINESS_CLASS_SEATS\"]+ df[\"ECONOMY_SEATS\"])\n",
    "\n",
    "#making assumptions & applying them to each of the row\n",
    "assumptions = {\"LONG - North America - Afternoon\" : {\"Tier1\":0.03,\"Tier2\":0.1,\"Tier3\":0.28},\"SHORT - Europe - Morning\" : {\"Tier1\":0.01,\"Tier2\":0.05,\"Tier3\":0.12},\"DOMESTIC - UK - Evening\":{\"Tier1\":0.0005,\"Tier2\":0.02,\"Tier3\":0.06},}\n",
    "\n",
    "               #Applying\n",
    "def apply_lounge_model(row):\n",
    "    category = row[\"Category\"]\n",
    "    Total = row[\"Total_Passengers\"]\n",
    "    if category in assumptions:\n",
    "        tier1 = Total * assumptions[category][\"Tier1\"]\n",
    "        tier2 = Total * assumptions[category][\"Tier2\"]\n",
    "        tier3 = Total * assumptions[category][\"Tier3\"]\n",
    "    else:\n",
    "        tier1 = tier2 = tier3 = 0 \n",
    "    return pd.Series([tier1,tier2,tier3])\n",
    "\n",
    "df[[\"Est_tier1\",\"Est_tier2\",\"Est_tier3\"]] = df.apply(apply_lounge_model, axis=1)"
   ]
  },
  {
   "cell_type": "code",
   "execution_count": 47,
   "id": "15b6c4dd-5f1d-42fa-bde2-9dd4c073da3a",
   "metadata": {},
   "outputs": [
    {
     "data": {
      "text/html": [
       "<div>\n",
       "<style scoped>\n",
       "    .dataframe tbody tr th:only-of-type {\n",
       "        vertical-align: middle;\n",
       "    }\n",
       "\n",
       "    .dataframe tbody tr th {\n",
       "        vertical-align: top;\n",
       "    }\n",
       "\n",
       "    .dataframe thead th {\n",
       "        text-align: right;\n",
       "    }\n",
       "</style>\n",
       "<table border=\"1\" class=\"dataframe\">\n",
       "  <thead>\n",
       "    <tr style=\"text-align: right;\">\n",
       "      <th></th>\n",
       "      <th>Category</th>\n",
       "      <th>ARRIVAL_COUNTRY</th>\n",
       "      <th>Total_Passengers</th>\n",
       "      <th>Est_tier1</th>\n",
       "      <th>Est_tier2</th>\n",
       "      <th>Est_tier3</th>\n",
       "    </tr>\n",
       "  </thead>\n",
       "  <tbody>\n",
       "    <tr>\n",
       "      <th>0</th>\n",
       "      <td>LONG - North America - Afternoon</td>\n",
       "      <td>USA</td>\n",
       "      <td>235</td>\n",
       "      <td>7.05</td>\n",
       "      <td>23.5</td>\n",
       "      <td>65.8</td>\n",
       "    </tr>\n",
       "    <tr>\n",
       "      <th>1</th>\n",
       "      <td>LONG - North America - Morning</td>\n",
       "      <td>USA</td>\n",
       "      <td>235</td>\n",
       "      <td>0.00</td>\n",
       "      <td>0.0</td>\n",
       "      <td>0.0</td>\n",
       "    </tr>\n",
       "    <tr>\n",
       "      <th>2</th>\n",
       "      <td>SHORT - Europe - Afternoon</td>\n",
       "      <td>Germany</td>\n",
       "      <td>180</td>\n",
       "      <td>0.00</td>\n",
       "      <td>0.0</td>\n",
       "      <td>0.0</td>\n",
       "    </tr>\n",
       "    <tr>\n",
       "      <th>3</th>\n",
       "      <td>SHORT - Europe - Evening</td>\n",
       "      <td>Turkey</td>\n",
       "      <td>180</td>\n",
       "      <td>0.00</td>\n",
       "      <td>0.0</td>\n",
       "      <td>0.0</td>\n",
       "    </tr>\n",
       "    <tr>\n",
       "      <th>4</th>\n",
       "      <td>SHORT - Europe - Evening</td>\n",
       "      <td>Germany</td>\n",
       "      <td>180</td>\n",
       "      <td>0.00</td>\n",
       "      <td>0.0</td>\n",
       "      <td>0.0</td>\n",
       "    </tr>\n",
       "  </tbody>\n",
       "</table>\n",
       "</div>"
      ],
      "text/plain": [
       "                           Category ARRIVAL_COUNTRY  Total_Passengers  \\\n",
       "0  LONG - North America - Afternoon             USA               235   \n",
       "1    LONG - North America - Morning             USA               235   \n",
       "2        SHORT - Europe - Afternoon         Germany               180   \n",
       "3          SHORT - Europe - Evening          Turkey               180   \n",
       "4          SHORT - Europe - Evening         Germany               180   \n",
       "\n",
       "   Est_tier1  Est_tier2  Est_tier3  \n",
       "0       7.05       23.5       65.8  \n",
       "1       0.00        0.0        0.0  \n",
       "2       0.00        0.0        0.0  \n",
       "3       0.00        0.0        0.0  \n",
       "4       0.00        0.0        0.0  "
      ]
     },
     "execution_count": 47,
     "metadata": {},
     "output_type": "execute_result"
    }
   ],
   "source": [
    "df[[\"Category\",\"ARRIVAL_COUNTRY\", \"Total_Passengers\", \"Est_tier1\", \"Est_tier2\", \"Est_tier3\"]].head()"
   ]
  },
  {
   "cell_type": "code",
   "execution_count": 55,
   "id": "c24a1ac4-21ef-431a-8030-a4e6a8cb0fb8",
   "metadata": {},
   "outputs": [],
   "source": [
    "# First, get the most common ARRIVAL_COUNTRY for each Category\n",
    "country_mode = (\n",
    "    df.groupby(\"Category\")[\"ARRIVAL_COUNTRY\"]\n",
    "    .agg(lambda x: x.mode()[0])  # Pick the most frequent\n",
    "    .reset_index()\n",
    ")\n",
    "\n",
    "# Now do your lounge tier summary\n",
    "summary = (\n",
    "    df.groupby(\"Category\")[[\"Est_tier1\", \"Est_tier2\", \"Est_tier3\"]]\n",
    "    .sum()\n",
    "    .round(1)\n",
    "    .reset_index()\n",
    ")\n",
    "\n",
    "# Merge both to get ARRIVAL_COUNTRY into your summary\n",
    "final_summary = pd.merge(summary, country_mode, on=\"Category\")\n",
    "\n",
    "# Save the final table to Excel\n",
    "final_summary.to_excel(\"lounge_model_summary_ans.xlsx\", index=False)"
   ]
  },
  {
   "cell_type": "code",
   "execution_count": null,
   "id": "6e7b578b-1914-478c-8289-5fdbaee1b462",
   "metadata": {},
   "outputs": [],
   "source": []
  }
 ],
 "metadata": {
  "kernelspec": {
   "display_name": "Python 3 (ipykernel)",
   "language": "python",
   "name": "python3"
  },
  "language_info": {
   "codemirror_mode": {
    "name": "ipython",
    "version": 3
   },
   "file_extension": ".py",
   "mimetype": "text/x-python",
   "name": "python",
   "nbconvert_exporter": "python",
   "pygments_lexer": "ipython3",
   "version": "3.12.4"
  }
 },
 "nbformat": 4,
 "nbformat_minor": 5
}
